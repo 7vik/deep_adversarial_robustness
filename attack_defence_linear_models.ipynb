{
  "nbformat": 4,
  "nbformat_minor": 0,
  "metadata": {
    "colab": {
      "name": "attack_defence_linear_models.ipynb",
      "version": "0.3.2",
      "provenance": [],
      "collapsed_sections": []
    },
    "kernelspec": {
      "name": "python3",
      "display_name": "Python 3"
    },
    "accelerator": "TPU"
  },
  "cells": [
    {
      "cell_type": "markdown",
      "metadata": {
        "id": "eTGnc_UZLqmF",
        "colab_type": "text"
      },
      "source": [
        "Tutorial Explanation [here](https://adversarial-ml-tutorial.org/linear_models/). We need to solve a minimax problem here (just like game theory)"
      ]
    },
    {
      "cell_type": "code",
      "metadata": {
        "id": "8vVw9uglLSq8",
        "colab_type": "code",
        "colab": {
          "base_uri": "https://localhost:8080/",
          "height": 286
        },
        "outputId": "8b44df31-6d64-4371-ac99-09435c210ba6"
      },
      "source": [
        "import matplotlib.pyplot as plt\n",
        "%matplotlib inline\n",
        "import numpy as np\n",
        "\n",
        "x = np.linspace(-4,4)\n",
        "plt.plot(x, np.log(1+np.exp(-x)))"
      ],
      "execution_count": 3,
      "outputs": [
        {
          "output_type": "execute_result",
          "data": {
            "text/plain": [
              "[<matplotlib.lines.Line2D at 0x7f5054cf35f8>]"
            ]
          },
          "metadata": {
            "tags": []
          },
          "execution_count": 3
        },
        {
          "output_type": "display_data",
          "data": {
            "image/png": "[encoded data removed]",
            "text/plain": [
              "<Figure size 432x288 with 1 Axes>"
            ]
          },
          "metadata": {
            "tags": []
          }
        }
      ]
    },
    {
      "cell_type": "code",
      "metadata": {
        "id": "rT4Y7sqHLxys",
        "colab_type": "code",
        "colab": {}
      },
      "source": [
        "from torchvision import datasets, transforms\n",
        "from torch.utils.data import DataLoader\n",
        "\n",
        "mnist_train = datasets.MNIST(\"./data\", train=True, download=True, transform=transforms.ToTensor())\n",
        "mnist_test = datasets.MNIST(\"./data\", train=False, download=True, transform=transforms.ToTensor())\n",
        "\n",
        "train_idx = mnist_train.targets <= 1\n",
        "mnist_train.data = mnist_train.data[train_idx]\n",
        "mnist_train.targets = mnist_train.targets[train_idx]\n",
        "\n",
        "test_idx = mnist_test.targets <= 1\n",
        "mnist_test.data = mnist_test.data[test_idx]\n",
        "mnist_test.targets = mnist_test.targets[test_idx]\n",
        "\n",
        "train_loader = DataLoader(mnist_train, batch_size = 100, shuffle=True)\n",
        "test_loader = DataLoader(mnist_test, batch_size = 100, shuffle=False)"
      ],
      "execution_count": 0,
      "outputs": []
    },
    {
      "cell_type": "code",
      "metadata": {
        "id": "e4DA00u1QfsR",
        "colab_type": "code",
        "colab": {}
      },
      "source": [
        "import torch\n",
        "import torch.nn as nn\n",
        "import torch.optim as optim\n",
        "\n",
        "def epoch(loader, model, opt=None):\n",
        "    total_loss, total_err = 0.,0.\n",
        "    for X,y in loader:\n",
        "        yp = model(X.view(X.shape[0], -1))[:,0]\n",
        "        loss = nn.BCEWithLogitsLoss()(yp, y.float())\n",
        "        if opt:\n",
        "            opt.zero_grad()\n",
        "            loss.backward()\n",
        "            opt.step()\n",
        "        \n",
        "        total_err += ((yp > 0) * (y==0) + (yp < 0) * (y==1)).sum().item()\n",
        "        total_loss += loss.item() * X.shape[0]\n",
        "    return total_err / len(loader.dataset), total_loss / len(loader.dataset)"
      ],
      "execution_count": 0,
      "outputs": []
    },
    {
      "cell_type": "code",
      "metadata": {
        "id": "CX0yXS41TAGG",
        "colab_type": "code",
        "colab": {
          "base_uri": "https://localhost:8080/",
          "height": 204
        },
        "outputId": "ff211c13-a882-4729-bc1a-778ea40b3aa3"
      },
      "source": [
        "model = nn.Linear(784, 1)\n",
        "opt = optim.SGD(model.parameters(), lr=1.)\n",
        "print(\"Train Err\", \"Train Loss\", \"Test Err\", \"Test Loss\", sep=\"\\t\")\n",
        "for i in range(10):\n",
        "    train_err, train_loss = epoch(train_loader, model, opt)\n",
        "    test_err, test_loss = epoch(test_loader, model)\n",
        "    print(*(\"{:.6f}\".format(i) for i in (train_err, train_loss, test_err, test_loss)), sep=\"\\t\")"
      ],
      "execution_count": 11,
      "outputs": [
        {
          "output_type": "stream",
          "text": [
            "Train Err\tTrain Loss\tTest Err\tTest Loss\n",
            "0.002448\t0.014473\t0.000473\t0.003330\n",
            "0.001421\t0.005498\t0.000473\t0.002568\n",
            "0.001263\t0.004461\t0.000473\t0.002277\n",
            "0.001026\t0.003921\t0.000473\t0.002243\n",
            "0.000947\t0.003583\t0.000473\t0.002043\n",
            "0.000790\t0.003193\t0.000473\t0.002079\n",
            "0.000947\t0.002982\t0.000473\t0.001957\n",
            "0.000790\t0.002890\t0.000473\t0.001891\n",
            "0.000790\t0.002722\t0.000946\t0.001849\n",
            "0.000711\t0.002534\t0.000473\t0.001878\n"
          ],
          "name": "stdout"
        }
      ]
    },
    {
      "cell_type": "code",
      "metadata": {
        "id": "3So9EKX2TFRH",
        "colab_type": "code",
        "colab": {
          "base_uri": "https://localhost:8080/",
          "height": 298
        },
        "outputId": "2a8074e9-45b7-41c2-9bdd-6a344bb23dc7"
      },
      "source": [
        "X_test = (test_loader.dataset.data.float()/255).view(len(test_loader.dataset),-1)\n",
        "y_test = test_loader.dataset.targets\n",
        "yp = model(X_test)[:,0]\n",
        "idx = (yp > 0) * (y_test == 0) + (yp < 0) * (y_test == 1)\n",
        "plt.imshow(1-X_test[idx][0].view(28,28).numpy(), cmap=\"gray\")\n",
        "plt.title(\"True Label: {}\".format(y_test[idx].item()))"
      ],
      "execution_count": 13,
      "outputs": [
        {
          "output_type": "execute_result",
          "data": {
            "text/plain": [
              "Text(0.5, 1.0, 'True Label: 0')"
            ]
          },
          "metadata": {
            "tags": []
          },
          "execution_count": 13
        },
        {
          "output_type": "display_data",
          "data": {
            "image/png": "[encoded data removed]",
            "text/plain": [
              "<Figure size 432x288 with 1 Axes>"
            ]
          },
          "metadata": {
            "tags": []
          }
        }
      ]
    },
    {
      "cell_type": "code",
      "metadata": {
        "id": "koDiuvJnTQsu",
        "colab_type": "code",
        "colab": {
          "base_uri": "https://localhost:8080/",
          "height": 286
        },
        "outputId": "1e8f9ade-5940-49e6-f46e-4642d3c8bb84"
      },
      "source": [
        "epsilon = 0.2\n",
        "delta = epsilon * model.weight.detach().sign().view(28,28)\n",
        "plt.imshow(1-delta.numpy(), cmap=\"gray\")"
      ],
      "execution_count": 14,
      "outputs": [
        {
          "output_type": "execute_result",
          "data": {
            "text/plain": [
              "<matplotlib.image.AxesImage at 0x7f5004faf908>"
            ]
          },
          "metadata": {
            "tags": []
          },
          "execution_count": 14
        },
        {
          "output_type": "display_data",
          "data": {
            "image/png": "[encoded data removed]",
            "text/plain": [
              "<Figure size 432x288 with 1 Axes>"
            ]
          },
          "metadata": {
            "tags": []
          }
        }
      ]
    },
    {
      "cell_type": "code",
      "metadata": {
        "id": "EZD1edopTnXp",
        "colab_type": "code",
        "colab": {
          "base_uri": "https://localhost:8080/",
          "height": 34
        },
        "outputId": "52b8c903-33e8-4d37-bdfd-d63c8f44710e"
      },
      "source": [
        "def epoch_adv(loader, model, delta):\n",
        "    total_loss, total_err = 0.,0.\n",
        "    for X,y in loader:\n",
        "        yp = model((X-(2*y.float()[:,None,None,None]-1)*delta).view(X.shape[0], -1))[:,0]\n",
        "        loss = nn.BCEWithLogitsLoss()(yp, y.float())\n",
        "        total_err += ((yp > 0) * (y==0) + (yp < 0) * (y==1)).sum().item()\n",
        "        total_loss += loss.item() * X.shape[0]\n",
        "    return total_err / len(loader.dataset), total_loss / len(loader.dataset)\n",
        "  \n",
        "print(epoch_adv(test_loader, model, delta[None,None,:,:]))"
      ],
      "execution_count": 15,
      "outputs": [
        {
          "output_type": "stream",
          "text": [
            "(0.8340425531914893, 3.2464862095266933)\n"
          ],
          "name": "stdout"
        }
      ]
    },
    {
      "cell_type": "code",
      "metadata": {
        "id": "uSHrD36ITxUC",
        "colab_type": "code",
        "colab": {
          "base_uri": "https://localhost:8080/",
          "height": 269
        },
        "outputId": "41145869-8766-4db1-d01d-ebdfe0945bd7"
      },
      "source": [
        "f,ax = plt.subplots(5,5, sharey=True)\n",
        "for i in range(25):\n",
        "    ax[i%5][i//5].imshow(1-(X_test[i].view(28,28) - (2*y_test[i]-1)*delta).numpy(), cmap=\"gray\")\n",
        "    ax"
      ],
      "execution_count": 16,
      "outputs": [
        {
          "output_type": "display_data",
          "data": {
            "image/png": "[encoded data removed]",
            "text/plain": [
              "<Figure size 432x288 with 25 Axes>"
            ]
          },
          "metadata": {
            "tags": []
          }
        }
      ]
    },
    {
      "cell_type": "markdown",
      "metadata": {
        "id": "ezvpy9pKUQPe",
        "colab_type": "text"
      },
      "source": [
        "Now creating a adversarially robust linear model!"
      ]
    },
    {
      "cell_type": "code",
      "metadata": {
        "id": "4OfvyVS7T_2g",
        "colab_type": "code",
        "colab": {
          "base_uri": "https://localhost:8080/",
          "height": 374
        },
        "outputId": "782cfa87-e30e-4efc-e5b6-2ef99c7ed9ec"
      },
      "source": [
        "def epoch_robust(loader, model, epsilon, opt=None):\n",
        "    total_loss, total_err = 0.,0.\n",
        "    for X,y in loader:\n",
        "        yp = model(X.view(X.shape[0], -1))[:,0] - epsilon*(2*y.float()-1)*model.weight.norm(1)\n",
        "        loss = nn.BCEWithLogitsLoss()(yp, y.float())\n",
        "        if opt:\n",
        "            opt.zero_grad()\n",
        "            loss.backward()\n",
        "            opt.step()\n",
        "        \n",
        "        total_err += ((yp > 0) * (y==0) + (yp < 0) * (y==1)).sum().item()\n",
        "        total_loss += loss.item() * X.shape[0]\n",
        "    return total_err / len(loader.dataset), total_loss / len(loader.dataset)\n",
        "  \n",
        "model = nn.Linear(784, 1)\n",
        "opt = optim.SGD(model.parameters(), lr=1e-1)\n",
        "epsilon = 0.2\n",
        "print(\"Rob. Train Err\", \"Rob. Train Loss\", \"Rob. Test Err\", \"Rob. Test Loss\", sep=\"\\t\")\n",
        "for i in range(20):\n",
        "    train_err, train_loss = epoch_robust(train_loader, model, epsilon, opt)\n",
        "    test_err, test_loss = epoch_robust(test_loader, model, epsilon)\n",
        "    print(*(\"{:.6f}\".format(i) for i in (train_err, train_loss, test_err, test_loss)), sep=\"\\t\")"
      ],
      "execution_count": 17,
      "outputs": [
        {
          "output_type": "stream",
          "text": [
            "Rob. Train Err\tRob. Train Loss\tRob. Test Err\tRob. Test Loss\n",
            "0.149309\t0.377042\t0.063830\t0.214034\n",
            "0.072483\t0.223311\t0.044917\t0.162429\n",
            "0.063008\t0.197553\t0.044444\t0.157442\n",
            "0.057639\t0.183680\t0.041608\t0.148550\n",
            "0.053139\t0.174679\t0.039243\t0.137593\n",
            "0.049664\t0.167662\t0.035934\t0.132619\n",
            "0.047612\t0.162520\t0.033097\t0.122757\n",
            "0.046585\t0.158418\t0.032151\t0.122096\n",
            "0.044848\t0.154468\t0.033097\t0.127738\n",
            "0.043269\t0.151494\t0.032624\t0.124384\n",
            "0.041690\t0.149169\t0.028842\t0.114882\n",
            "0.040111\t0.146759\t0.027896\t0.116990\n",
            "0.038926\t0.144970\t0.027896\t0.111648\n",
            "0.038295\t0.143158\t0.026478\t0.104280\n",
            "0.037742\t0.141746\t0.026478\t0.106106\n",
            "0.036715\t0.140391\t0.026478\t0.106851\n",
            "0.036321\t0.138888\t0.026478\t0.107302\n",
            "0.035531\t0.137927\t0.025059\t0.102032\n",
            "0.035057\t0.137283\t0.025059\t0.102352\n",
            "0.033794\t0.136318\t0.024586\t0.099917\n"
          ],
          "name": "stdout"
        }
      ]
    },
    {
      "cell_type": "code",
      "metadata": {
        "id": "_tnoWYz6UYZ1",
        "colab_type": "code",
        "colab": {
          "base_uri": "https://localhost:8080/",
          "height": 51
        },
        "outputId": "f6c3efa3-cff8-4c1a-8bbf-e57cdfa9e0b9"
      },
      "source": [
        "train_err, train_loss = epoch(train_loader, model)\n",
        "test_err, test_loss = epoch(test_loader, model)\n",
        "print(\"Train Err\", \"Train Loss\", \"Test Err\", \"Test Loss\", sep=\"\\t\")\n",
        "print(*(\"{:.6f}\".format(i) for i in (train_err, train_loss, test_err, test_loss)), sep=\"\\t\")"
      ],
      "execution_count": 18,
      "outputs": [
        {
          "output_type": "stream",
          "text": [
            "Train Err\tTrain Loss\tTest Err\tTest Loss\n",
            "0.006080\t0.015215\t0.003310\t0.008166\n"
          ],
          "name": "stdout"
        }
      ]
    },
    {
      "cell_type": "markdown",
      "metadata": {
        "id": "8EBI4s0mU6GI",
        "colab_type": "text"
      },
      "source": [
        "We’re getting 0.3% error on the test set. This is good, but not as good as we were doing with standard training; we’re now making 8 mistakes on the test set, instead of the 1 that we were making before. And this is not just a random effect of this particular problem, or the fact that it is relatively easy. Rather, perhaps somewhat surprisingly, there is a fundamental tradeoff between clean accuracy and robust accuracy, and doing better on the robust error leads to higher clean error. "
      ]
    },
    {
      "cell_type": "code",
      "metadata": {
        "id": "XyQwSnPZU8I0",
        "colab_type": "code",
        "colab": {
          "base_uri": "https://localhost:8080/",
          "height": 286
        },
        "outputId": "c240e400-4f8e-4c75-a3db-a1cae9c4fa5e"
      },
      "source": [
        "delta = epsilon * model.weight.detach().sign().view(28,28)\n",
        "plt.imshow(1-delta.numpy(), cmap=\"gray\")"
      ],
      "execution_count": 19,
      "outputs": [
        {
          "output_type": "execute_result",
          "data": {
            "text/plain": [
              "<matplotlib.image.AxesImage at 0x7f500491e0b8>"
            ]
          },
          "metadata": {
            "tags": []
          },
          "execution_count": 19
        },
        {
          "output_type": "display_data",
          "data": {
            "image/png": "[encoded data removed]",
            "text/plain": [
              "<Figure size 432x288 with 1 Axes>"
            ]
          },
          "metadata": {
            "tags": []
          }
        }
      ]
    },
    {
      "cell_type": "markdown",
      "metadata": {
        "id": "FiPXtGkqVNOv",
        "colab_type": "text"
      },
      "source": [
        "That looks substantially more like a zero than what we saw before. Thus, we have some (admittedly, at this point, fairly weak) evidence that robsut training may also lead to “adversarial directions” that are inherrently more meaningful. Rather than fooling the classifier by just adding “random noise” we actually need to start moving the image in the direction of an actual new image (and even doing so, at least with this size epsilon, we aren’t very successful at fooling the classifier)."
      ]
    },
    {
      "cell_type": "markdown",
      "metadata": {
        "id": "EbraqzlwXxTE",
        "colab_type": "text"
      },
      "source": [
        "Now, this means linear models can be made rubust. But what about deep networks? It turns out that the solution found in that case is not optimal because of the non-convexity of the function. Thus there's no direct, optimal way to attack the adversary. Of course, as the adversary would say, \n",
        "\n",
        "![alt text](https://media1.tenor.com/images/b1ba542ebb4359ffd462ab51dced8aa7/tenor.gif?itemid=9579329)"
      ]
    }
  ]
}